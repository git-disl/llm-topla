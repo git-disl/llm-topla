{
 "cells": [
  {
   "cell_type": "markdown",
   "metadata": {},
   "source": [
    "# Commonsense (AI2 Reasoning Challenge)"
   ]
  },
  {
   "cell_type": "code",
   "execution_count": null,
   "metadata": {},
   "outputs": [],
   "source": [
    "import numpy as np\n",
    "from datasets import load_dataset\n",
    "import tqdm\n",
    "from torch.utils.data import DataLoader\n",
    "import sys\n",
    "import pickle as pkl\n",
    "sys.path.append(\"../\")\n",
    "\n",
    "from train import train_ensemble\n",
    "\n",
    "\n",
    "hf_token = \"\""
   ]
  },
  {
   "cell_type": "code",
   "execution_count": 2,
   "metadata": {},
   "outputs": [],
   "source": [
    "ds_names = [\"arc_challenge\"]"
   ]
  },
  {
   "cell_type": "code",
   "execution_count": 3,
   "metadata": {},
   "outputs": [],
   "source": [
    "all_model_data = {\n",
    "    \"meta-llama__Llama-2-70b-chat-hf\": {},\n",
    "    \"mistralai__Mixtral-8x7B-Instruct-v0.1\" : {},\n",
    "    \"google__gemma-7b\": {},\n",
    "    \"microsoft__phi-2\": {},\n",
    "    \"mistralai__Mistral-7B-v0.1\": {},\n",
    "}\n",
    "\n",
    "model_names = list(all_model_data.keys())"
   ]
  },
  {
   "cell_type": "code",
   "execution_count": 8,
   "metadata": {},
   "outputs": [
    {
     "name": "stdout",
     "output_type": "stream",
     "text": [
      "meta-llama__Llama-2-70b-chat-hf\n"
     ]
    },
    {
     "name": "stderr",
     "output_type": "stream",
     "text": [
      "100%|██████████| 1/1 [01:05<00:00, 65.59s/it]\n"
     ]
    },
    {
     "name": "stdout",
     "output_type": "stream",
     "text": [
      "mistralai__Mixtral-8x7B-Instruct-v0.1\n"
     ]
    },
    {
     "name": "stderr",
     "output_type": "stream",
     "text": [
      "100%|██████████| 1/1 [00:58<00:00, 58.19s/it]\n"
     ]
    },
    {
     "name": "stdout",
     "output_type": "stream",
     "text": [
      "google__gemma-7b\n"
     ]
    },
    {
     "name": "stderr",
     "output_type": "stream",
     "text": [
      "100%|██████████| 1/1 [00:55<00:00, 55.62s/it]\n"
     ]
    },
    {
     "name": "stdout",
     "output_type": "stream",
     "text": [
      "microsoft__phi-2\n"
     ]
    },
    {
     "name": "stderr",
     "output_type": "stream",
     "text": [
      "100%|██████████| 1/1 [00:55<00:00, 55.71s/it]\n"
     ]
    },
    {
     "name": "stdout",
     "output_type": "stream",
     "text": [
      "mistralai__Mistral-7B-v0.1\n"
     ]
    },
    {
     "name": "stderr",
     "output_type": "stream",
     "text": [
      "100%|██████████| 1/1 [00:56<00:00, 56.30s/it]\n"
     ]
    }
   ],
   "source": [
    "def load_data(model_name, ds_name):\n",
    "    data = load_dataset(\n",
    "    f\"HuggingFaceEvalInternal/{model_name}-details-private\",\n",
    "    name=f\"{model_name}__leaderboard_{ds_name}\",\n",
    "    split=\"latest\",\n",
    "    token=hf_token)\n",
    "\n",
    "    \n",
    "    data_len = len(data)\n",
    "    remove_idx = [idx for idx in range(len(data)) if np.array(data[\"resps\"][idx]).shape[0] != 4 or data[\"doc\"][idx][\"answerKey\"] not in [\"A\", \"B\", \"C\", \"D\"]]\n",
    "\n",
    "    doc_ids = [data[\"doc_id\"][idx] for idx in range(data_len) if idx not in remove_idx]\n",
    "    resps = [data[\"resps\"][idx] for idx in range(data_len) if idx not in remove_idx]\n",
    "    labels = [data[\"doc\"][idx][\"answerKey\"] for idx in range(data_len) if idx not in remove_idx]\n",
    "    idx = np.argsort(doc_ids)\n",
    "\n",
    "    probs = np.array(resps).squeeze()[:, :, 0].astype(float)\n",
    "    labels = np.array(labels)\n",
    "    choices = sorted(list(set(labels)))\n",
    "    labels_list = [choices.index(lbl) for lbl in labels]\n",
    "    label_arr = np.array(labels_list).astype(int)\n",
    "\n",
    "    return probs[idx], label_arr[idx]\n",
    "\n",
    "for mn in list(all_model_data.keys()):\n",
    "    print(mn)\n",
    "    for ds_name in tqdm.tqdm(ds_names):\n",
    "        x, y = load_data(mn, ds_name)\n",
    "        all_model_data[mn][ds_name] = {\n",
    "            \"data\" : x,\n",
    "            \"label\": y\n",
    "        }\n",
    "\n",
    "with open(\"commonsense_data.pkl\", \"wb\") as f:\n",
    "    pkl.dump(all_model_data, f)"
   ]
  },
  {
   "cell_type": "code",
   "execution_count": 4,
   "metadata": {},
   "outputs": [],
   "source": [
    "with open(\"commonsense_data.pkl\", \"rb\") as f:\n",
    "    all_model_data = pkl.load(f)"
   ]
  },
  {
   "cell_type": "code",
   "execution_count": 5,
   "metadata": {},
   "outputs": [],
   "source": [
    "model_names = list(all_model_data.keys())"
   ]
  },
  {
   "cell_type": "code",
   "execution_count": 6,
   "metadata": {},
   "outputs": [
    {
     "name": "stdout",
     "output_type": "stream",
     "text": [
      "meta-llama__Llama-2-70b-chat-hf: Acc: 0.4895\n",
      "mistralai__Mixtral-8x7B-Instruct-v0.1: Acc: 0.6329\n",
      "google__gemma-7b: Acc: 0.5664\n",
      "microsoft__phi-2: Acc: 0.5629\n",
      "mistralai__Mistral-7B-v0.1: Acc: 0.5455\n"
     ]
    },
    {
     "name": "stderr",
     "output_type": "stream",
     "text": [
      "/home/stekin6/sft/inference_llm/other_results/../train.py:77: UserWarning: nn.init.xavier_uniform is now deprecated in favor of nn.init.xavier_uniform_.\n",
      "  torch.nn.init.xavier_uniform(m.weight)\n"
     ]
    },
    {
     "name": "stdout",
     "output_type": "stream",
     "text": [
      "Training ended, total time: 4.74\n",
      "Novel Acc = 64.1875 +- 5.19\n",
      "64.1875\n"
     ]
    }
   ],
   "source": [
    "ds_name = ds_names[0]\n",
    "results = {}\n",
    "\n",
    "results[ds_name] = {}\n",
    "all_x, all_y = [], []\n",
    "for mn in all_model_data.keys():\n",
    "    x, y = all_model_data[mn][ds_name].values()\n",
    "    all_x.append(x)\n",
    "    all_y.append(y)\n",
    "all_x = np.concatenate(all_x, axis=1)\n",
    "\n",
    "try:\n",
    "    for y_idx in all_y:\n",
    "        for i in range(len(y_idx)):\n",
    "            assert(y_idx[i] == y[i])\n",
    "except AssertionError as e:\n",
    "    print(e)\n",
    "    print(f\"skipping ... {ds_name}\")\n",
    "\n",
    "concat_data = np.concatenate([all_x, y[:, None]], axis=1)\n",
    "rand_id = np.random.permutation(len(concat_data))\n",
    "train_data = concat_data[rand_id]\n",
    "\n",
    "train_size = int(len(x) * 0.75)\n",
    "train_data, test_data = concat_data[:train_size], concat_data[train_size:]\n",
    "\n",
    "val_size = int(len(train_data) * 0.25)\n",
    "train_size = len(train_data) - val_size\n",
    "\n",
    "novel_data = test_data[:, :-1]\n",
    "novel_label = test_data[:, -1]\n",
    "for i, novel_arr in enumerate(np.split(novel_data, len(model_names), axis=1)):\n",
    "    pred = novel_arr.argmax(axis=1)\n",
    "    acc = np.mean(novel_label == pred)\n",
    "    print(f\"{model_names[i]}: Acc: {acc:.4f}\")\n",
    "    results[ds_name][model_names[i]] = acc * 100\n",
    "\n",
    "\n",
    "batch_size = 64\n",
    "train_loader = DataLoader(train_data, batch_size=batch_size, shuffle=True)\n",
    "val_loader = DataLoader(train_data[train_size:], batch_size=batch_size, shuffle=True)\n",
    "novel_loader = DataLoader(test_data, batch_size=batch_size, shuffle=True)\n",
    "\n",
    "space_size = all_x[0].shape[0] // len(model_names)\n",
    "\n",
    "exp_result = train_ensemble(model_names, train_loader, val_loader, novel_loader,\n",
    "                n_epochs=500, save_dir=\".\",\n",
    "                space_size=space_size, verbose=False)\n",
    "results[ds_name][\"TOPLA\"] = exp_result[\"test_acc\"]\n",
    "print(exp_result[\"test_acc\"])\n"
   ]
  },
  {
   "cell_type": "code",
   "execution_count": 55,
   "metadata": {},
   "outputs": [],
   "source": [
    "avg_scores = {mn: 0 for mn in model_names}\n",
    "avg_scores[\"TOPLA\"] = 0\n",
    "for ds_name, res in results.items():\n",
    "    for mn, acc in res.items():\n",
    "        avg_scores[mn] += acc\n",
    "\n",
    "for mn in model_names:\n",
    "    avg_scores[mn] = avg_scores[mn] / len(results.keys())\n",
    "avg_scores[\"TOPLA\"] /= len(results.keys())"
   ]
  },
  {
   "cell_type": "code",
   "execution_count": 56,
   "metadata": {},
   "outputs": [
    {
     "data": {
      "text/plain": [
       "{'mistralai__Mixtral-8x7B-Instruct-v0.1': 63.286713286713294,\n",
       " 'google__gemma-7b': 56.64335664335665,\n",
       " 'microsoft__phi-2': 56.29370629370629,\n",
       " 'mistralai__Mistral-7B-v0.1': 54.54545454545454,\n",
       " 'TOPLA': 63.604166666666664}"
      ]
     },
     "execution_count": 56,
     "metadata": {},
     "output_type": "execute_result"
    }
   ],
   "source": [
    "avg_scores"
   ]
  },
  {
   "cell_type": "code",
   "execution_count": 58,
   "metadata": {},
   "outputs": [
    {
     "data": {
      "image/png": "[encoded data removed]",
      "text/plain": [
       "<Figure size 640x480 with 1 Axes>"
      ]
     },
     "metadata": {},
     "output_type": "display_data"
    }
   ],
   "source": [
    "import matplotlib.pyplot as plt\n",
    "\n",
    "fig, ax = plt.subplots()\n",
    "\n",
    "width = 0.5  # the width of the bars\n",
    "multiplier = 0\n",
    "mstrip_names = []\n",
    "x = np.arange(len(avg_scores.keys()))\n",
    "for i, (mn, acc) in enumerate(avg_scores.items()):\n",
    "    strip_name = mn.split(\"__\")\n",
    "    strip_name = strip_name[1] if len(strip_name) == 2 else strip_name[0]\n",
    "    offset = width * multiplier\n",
    "    rects = ax.bar(x[i] + offset, acc, width, label=strip_name)\n",
    "    # mstrip_names.append(strip_name)\n",
    "\n",
    "ax.set_ylabel('Performance Acc (%)')\n",
    "ax.set_title('Commonsense ARC, Base Models and TOPLA Performance')\n",
    "ax.set_xticks(x, mstrip_names, rotation=10)\n",
    "ax.legend(loc='upper right')\n",
    "ax.set_ylim(0, 100)\n",
    "ax.yaxis.grid(zorder=0)\n",
    "plt.show()\n"
   ]
  }
 ],
 "metadata": {
  "kernelspec": {
   "display_name": "mistral",
   "language": "python",
   "name": "python3"
  },
  "language_info": {
   "codemirror_mode": {
    "name": "ipython",
    "version": 3
   },
   "file_extension": ".py",
   "mimetype": "text/x-python",
   "name": "python",
   "nbconvert_exporter": "python",
   "pygments_lexer": "ipython3",
   "version": "3.9.19"
  }
 },
 "nbformat": 4,
 "nbformat_minor": 2
}
