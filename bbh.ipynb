{
 "cells": [
  {
   "cell_type": "markdown",
   "metadata": {},
   "source": [
    "# Big Bench Hard"
   ]
  },
  {
   "cell_type": "code",
   "execution_count": null,
   "metadata": {},
   "outputs": [],
   "source": [
    "import numpy as np\n",
    "from datasets import load_dataset\n",
    "import tqdm\n",
    "from torch.utils.data import DataLoader\n",
    "import sys\n",
    "import pickle as pkl\n",
    "sys.path.append(\"../\")\n",
    "\n",
    "from train import train_ensemble\n",
    "\n",
    "\n",
    "hf_token = \"\""
   ]
  },
  {
   "cell_type": "code",
   "execution_count": 2,
   "metadata": {},
   "outputs": [],
   "source": [
    "bbh_ds_names = [\"boolean_expressions\",  \"causal_judgement\",  \"date_understanding\",  \"disambiguation_qa\",  \"formal_fallacies\",  \"geometric_shapes\",  \"hyperbaton\",  \"logical_deduction_five_objects\",  \"logical_deduction_seven_objects\",  \"logical_deduction_three_objects\",  \"movie_recommendation\",  \"navigate\",  \"object_counting\",  \"penguins_in_a_table\",  \"reasoning_about_colored_objects\",  \"ruin_names\",  \"salient_translation_error_detection\",  \"snarks\",  \"sports_understanding\",  \"temporal_sequences\",  \"tracking_shuffled_objects_five_objects\",  \"tracking_shuffled_objects_seven_objects\",  \"tracking_shuffled_objects_three_objects\",  \"web_of_lies\"]"
   ]
  },
  {
   "cell_type": "code",
   "execution_count": 3,
   "metadata": {},
   "outputs": [],
   "source": [
    "all_model_data = {\n",
    "    \"meta-llama__Llama-2-70b-chat-hf\": {},\n",
    "    \"mistralai__Mixtral-8x7B-Instruct-v0.1\" : {},\n",
    "    \"google__gemma-7b\": {},\n",
    "    \"microsoft__phi-2\": {},\n",
    "    \"mistralai__Mistral-7B-v0.1\": {},\n",
    "}\n",
    "\n",
    "model_names = list(all_model_data.keys())"
   ]
  },
  {
   "cell_type": "code",
   "execution_count": 4,
   "metadata": {},
   "outputs": [
    {
     "name": "stdout",
     "output_type": "stream",
     "text": [
      "meta-llama__Llama-2-70b-chat-hf\n"
     ]
    },
    {
     "name": "stderr",
     "output_type": "stream",
     "text": [
      "100%|██████████| 24/24 [00:24<00:00,  1.02s/it]\n"
     ]
    },
    {
     "name": "stdout",
     "output_type": "stream",
     "text": [
      "mistralai__Mixtral-8x7B-Instruct-v0.1\n"
     ]
    },
    {
     "name": "stderr",
     "output_type": "stream",
     "text": [
      "100%|██████████| 24/24 [00:24<00:00,  1.01s/it]\n"
     ]
    },
    {
     "name": "stdout",
     "output_type": "stream",
     "text": [
      "google__gemma-7b\n"
     ]
    },
    {
     "name": "stderr",
     "output_type": "stream",
     "text": [
      "100%|██████████| 24/24 [00:25<00:00,  1.08s/it]\n"
     ]
    },
    {
     "name": "stdout",
     "output_type": "stream",
     "text": [
      "microsoft__phi-2\n"
     ]
    },
    {
     "name": "stderr",
     "output_type": "stream",
     "text": [
      "100%|██████████| 24/24 [00:24<00:00,  1.02s/it]\n"
     ]
    },
    {
     "name": "stdout",
     "output_type": "stream",
     "text": [
      "mistralai__Mistral-7B-v0.1\n"
     ]
    },
    {
     "name": "stderr",
     "output_type": "stream",
     "text": [
      "100%|██████████| 24/24 [00:26<00:00,  1.10s/it]\n"
     ]
    }
   ],
   "source": [
    "def load_data(model_name, ds_name):\n",
    "    data = load_dataset(\n",
    "    f\"HuggingFaceEvalInternal/{model_name}-details-private\",\n",
    "    name=f\"{model_name}__leaderboard_bbh_{ds_name}\",\n",
    "    split=\"latest\",\n",
    "    token=hf_token)\n",
    "\n",
    "    idx = np.argsort(data[\"doc_id\"])\n",
    "\n",
    "    probs = np.array(data[\"resps\"]).squeeze()[:, :, 0].astype(float)\n",
    "    labels = np.array([data[\"doc\"][i][\"target\"] for i in range(len(probs))])\n",
    "    choices = sorted(list(set(labels)))\n",
    "    labels_list = [choices.index(lbl) for lbl in labels]\n",
    "    label_arr = np.array(labels_list).astype(int)\n",
    "\n",
    "    return probs[idx], label_arr[idx]\n",
    "\n",
    "for mn in list(all_model_data.keys()):\n",
    "    print(mn)\n",
    "    for ds_name in tqdm.tqdm(bbh_ds_names):\n",
    "        x, y = load_data(mn, ds_name)\n",
    "        all_model_data[mn][ds_name] = {\n",
    "            \"data\" : x,\n",
    "            \"label\": y\n",
    "        }\n",
    "\n",
    "with open(\"bbh_data.pkl\", \"wb\") as f:\n",
    "    pkl.dump(model_names, f)"
   ]
  },
  {
   "cell_type": "code",
   "execution_count": 6,
   "metadata": {},
   "outputs": [
    {
     "name": "stdout",
     "output_type": "stream",
     "text": [
      "meta-llama__Llama-2-70b-chat-hf\n"
     ]
    },
    {
     "name": "stderr",
     "output_type": "stream",
     "text": [
      "100%|██████████| 24/24 [00:23<00:00,  1.01it/s]\n"
     ]
    },
    {
     "name": "stdout",
     "output_type": "stream",
     "text": [
      "mistralai__Mixtral-8x7B-Instruct-v0.1\n"
     ]
    },
    {
     "name": "stderr",
     "output_type": "stream",
     "text": [
      "100%|██████████| 24/24 [00:24<00:00,  1.03s/it]\n"
     ]
    },
    {
     "name": "stdout",
     "output_type": "stream",
     "text": [
      "google__gemma-7b\n"
     ]
    },
    {
     "name": "stderr",
     "output_type": "stream",
     "text": [
      "100%|██████████| 24/24 [00:25<00:00,  1.08s/it]\n"
     ]
    },
    {
     "name": "stdout",
     "output_type": "stream",
     "text": [
      "microsoft__phi-2\n"
     ]
    },
    {
     "name": "stderr",
     "output_type": "stream",
     "text": [
      "100%|██████████| 24/24 [00:24<00:00,  1.02s/it]\n"
     ]
    },
    {
     "name": "stdout",
     "output_type": "stream",
     "text": [
      "mistralai__Mistral-7B-v0.1\n"
     ]
    },
    {
     "name": "stderr",
     "output_type": "stream",
     "text": [
      "100%|██████████| 24/24 [00:25<00:00,  1.04s/it]\n"
     ]
    }
   ],
   "source": [
    "with open(\"bbh_data.pkl\", \"rb\") as f:\n",
    "    all_model_data = pkl.load(f)"
   ]
  },
  {
   "cell_type": "code",
   "execution_count": 5,
   "metadata": {},
   "outputs": [
    {
     "name": "stderr",
     "output_type": "stream",
     "text": [
      "  0%|          | 0/24 [00:00<?, ?it/s]"
     ]
    },
    {
     "name": "stderr",
     "output_type": "stream",
     "text": [
      "/home/stekin6/sft/inference_llm/other_results/../train.py:77: UserWarning: nn.init.xavier_uniform is now deprecated in favor of nn.init.xavier_uniform_.\n",
      "  torch.nn.init.xavier_uniform(m.weight)\n"
     ]
    },
    {
     "name": "stdout",
     "output_type": "stream",
     "text": [
      "meta-llama__Llama-2-70b-chat-hf: Acc: 0.6600\n",
      "mistralai__Mixtral-8x7B-Instruct-v0.1: Acc: 0.9400\n",
      "google__gemma-7b: Acc: 0.8200\n",
      "microsoft__phi-2: Acc: 0.9200\n",
      "mistralai__Mistral-7B-v0.1: Acc: 0.8200\n"
     ]
    },
    {
     "name": "stderr",
     "output_type": "stream",
     "text": [
      "  4%|▍         | 1/24 [00:06<02:26,  6.37s/it]"
     ]
    },
    {
     "name": "stdout",
     "output_type": "stream",
     "text": [
      "No improvement in 200 epochs, breaking\n",
      "Novel Acc = 94.2308 +- 5.73\n",
      "94.23076923076923\n",
      "meta-llama__Llama-2-70b-chat-hf: Acc: 0.3684\n",
      "mistralai__Mixtral-8x7B-Instruct-v0.1: Acc: 0.3158\n",
      "google__gemma-7b: Acc: 0.2895\n",
      "microsoft__phi-2: Acc: 0.4474\n",
      "mistralai__Mistral-7B-v0.1: Acc: 0.4211\n"
     ]
    },
    {
     "name": "stderr",
     "output_type": "stream",
     "text": [
      "/home/stekin6/sft/inference_llm/other_results/../train.py:77: UserWarning: nn.init.xavier_uniform is now deprecated in favor of nn.init.xavier_uniform_.\n",
      "  torch.nn.init.xavier_uniform(m.weight)\n",
      "  8%|▊         | 2/24 [00:12<02:17,  6.27s/it]"
     ]
    },
    {
     "name": "stdout",
     "output_type": "stream",
     "text": [
      "Novel Acc = 62.5000 +- 15.88\n",
      "62.5\n",
      "meta-llama__Llama-2-70b-chat-hf: Acc: 0.1800\n",
      "mistralai__Mixtral-8x7B-Instruct-v0.1: Acc: 0.5600\n",
      "google__gemma-7b: Acc: 0.4000\n",
      "microsoft__phi-2: Acc: 0.4200\n",
      "mistralai__Mistral-7B-v0.1: Acc: 0.4800\n"
     ]
    },
    {
     "name": "stderr",
     "output_type": "stream",
     "text": [
      " 12%|█▎        | 3/24 [00:20<02:28,  7.09s/it]"
     ]
    },
    {
     "name": "stdout",
     "output_type": "stream",
     "text": [
      "Novel Acc = 59.6154 +- 11.36\n",
      "59.61538461538461\n",
      "meta-llama__Llama-2-70b-chat-hf: Acc: 0.2600\n",
      "mistralai__Mixtral-8x7B-Instruct-v0.1: Acc: 0.5600\n",
      "google__gemma-7b: Acc: 0.5600\n",
      "microsoft__phi-2: Acc: 0.8200\n",
      "mistralai__Mistral-7B-v0.1: Acc: 0.4200\n"
     ]
    },
    {
     "name": "stderr",
     "output_type": "stream",
     "text": [
      " 17%|█▋        | 4/24 [00:28<02:29,  7.47s/it]"
     ]
    },
    {
     "name": "stdout",
     "output_type": "stream",
     "text": [
      "Novel Acc = 76.9231 +- 12.46\n",
      "76.92307692307692\n",
      "meta-llama__Llama-2-70b-chat-hf: Acc: 0.4600\n",
      "mistralai__Mixtral-8x7B-Instruct-v0.1: Acc: 0.4400\n",
      "google__gemma-7b: Acc: 0.5000\n",
      "microsoft__phi-2: Acc: 0.5200\n",
      "mistralai__Mistral-7B-v0.1: Acc: 0.4800\n"
     ]
    },
    {
     "name": "stderr",
     "output_type": "stream",
     "text": [
      " 21%|██        | 5/24 [00:36<02:26,  7.69s/it]"
     ]
    },
    {
     "name": "stdout",
     "output_type": "stream",
     "text": [
      "Novel Acc = 57.6923 +- 9.81\n",
      "57.69230769230769\n",
      "meta-llama__Llama-2-70b-chat-hf: Acc: 0.1200\n",
      "mistralai__Mixtral-8x7B-Instruct-v0.1: Acc: 0.0000\n",
      "google__gemma-7b: Acc: 0.0600\n",
      "microsoft__phi-2: Acc: 0.0000\n",
      "mistralai__Mistral-7B-v0.1: Acc: 0.0400\n"
     ]
    },
    {
     "name": "stderr",
     "output_type": "stream",
     "text": [
      " 25%|██▌       | 6/24 [00:42<02:07,  7.08s/it]"
     ]
    },
    {
     "name": "stdout",
     "output_type": "stream",
     "text": [
      "No improvement in 200 epochs, breaking\n",
      "Novel Acc = 36.5385 +- 15.65\n",
      "36.53846153846154\n",
      "meta-llama__Llama-2-70b-chat-hf: Acc: 0.5200\n",
      "mistralai__Mixtral-8x7B-Instruct-v0.1: Acc: 0.8200\n",
      "google__gemma-7b: Acc: 0.6200\n",
      "microsoft__phi-2: Acc: 0.8400\n",
      "mistralai__Mistral-7B-v0.1: Acc: 0.5800\n"
     ]
    },
    {
     "name": "stderr",
     "output_type": "stream",
     "text": [
      " 29%|██▉       | 7/24 [00:49<01:57,  6.89s/it]"
     ]
    },
    {
     "name": "stdout",
     "output_type": "stream",
     "text": [
      "No improvement in 200 epochs, breaking\n",
      "Novel Acc = 90.3846 +- 6.61\n",
      "90.38461538461539\n",
      "meta-llama__Llama-2-70b-chat-hf: Acc: 0.2600\n",
      "mistralai__Mixtral-8x7B-Instruct-v0.1: Acc: 0.5200\n",
      "google__gemma-7b: Acc: 0.2000\n",
      "microsoft__phi-2: Acc: 0.5000\n",
      "mistralai__Mistral-7B-v0.1: Acc: 0.4400\n"
     ]
    },
    {
     "name": "stderr",
     "output_type": "stream",
     "text": [
      " 33%|███▎      | 8/24 [00:57<01:56,  7.26s/it]"
     ]
    },
    {
     "name": "stdout",
     "output_type": "stream",
     "text": [
      "Novel Acc = 46.1538 +- 16.73\n",
      "46.15384615384615\n",
      "meta-llama__Llama-2-70b-chat-hf: Acc: 0.1400\n",
      "mistralai__Mixtral-8x7B-Instruct-v0.1: Acc: 0.3000\n",
      "google__gemma-7b: Acc: 0.3200\n",
      "microsoft__phi-2: Acc: 0.5200\n",
      "mistralai__Mistral-7B-v0.1: Acc: 0.2600\n"
     ]
    },
    {
     "name": "stderr",
     "output_type": "stream",
     "text": [
      " 38%|███▊      | 9/24 [01:05<01:52,  7.53s/it]"
     ]
    },
    {
     "name": "stdout",
     "output_type": "stream",
     "text": [
      "Novel Acc = 30.7692 +- 9.47\n",
      "30.76923076923077\n",
      "meta-llama__Llama-2-70b-chat-hf: Acc: 0.4200\n",
      "mistralai__Mixtral-8x7B-Instruct-v0.1: Acc: 0.5000\n",
      "google__gemma-7b: Acc: 0.5600\n",
      "microsoft__phi-2: Acc: 0.7600\n",
      "mistralai__Mistral-7B-v0.1: Acc: 0.6200\n"
     ]
    },
    {
     "name": "stderr",
     "output_type": "stream",
     "text": [
      " 42%|████▏     | 10/24 [01:12<01:45,  7.57s/it]"
     ]
    },
    {
     "name": "stdout",
     "output_type": "stream",
     "text": [
      "No improvement in 200 epochs, breaking\n",
      "Novel Acc = 76.9231 +- 11.26\n",
      "76.92307692307692\n",
      "meta-llama__Llama-2-70b-chat-hf: Acc: 0.1400\n",
      "mistralai__Mixtral-8x7B-Instruct-v0.1: Acc: 0.6600\n",
      "google__gemma-7b: Acc: 0.5600\n",
      "microsoft__phi-2: Acc: 0.7000\n",
      "mistralai__Mistral-7B-v0.1: Acc: 0.6800\n"
     ]
    },
    {
     "name": "stderr",
     "output_type": "stream",
     "text": [
      " 46%|████▌     | 11/24 [01:21<01:40,  7.73s/it]"
     ]
    },
    {
     "name": "stdout",
     "output_type": "stream",
     "text": [
      "Novel Acc = 73.0769 +- 15.51\n",
      "73.07692307692308\n",
      "meta-llama__Llama-2-70b-chat-hf: Acc: 0.5200\n",
      "mistralai__Mixtral-8x7B-Instruct-v0.1: Acc: 0.2600\n",
      "google__gemma-7b: Acc: 0.4400\n",
      "microsoft__phi-2: Acc: 0.4000\n",
      "mistralai__Mistral-7B-v0.1: Acc: 0.5000\n"
     ]
    },
    {
     "name": "stderr",
     "output_type": "stream",
     "text": [
      " 50%|█████     | 12/24 [01:29<01:33,  7.82s/it]"
     ]
    },
    {
     "name": "stdout",
     "output_type": "stream",
     "text": [
      "Novel Acc = 71.1538 +- 12.89\n",
      "71.15384615384616\n",
      "meta-llama__Llama-2-70b-chat-hf: Acc: 0.0400\n",
      "mistralai__Mixtral-8x7B-Instruct-v0.1: Acc: 0.0600\n",
      "google__gemma-7b: Acc: 0.1200\n",
      "microsoft__phi-2: Acc: 0.0000\n",
      "mistralai__Mistral-7B-v0.1: Acc: 0.1200\n"
     ]
    },
    {
     "name": "stderr",
     "output_type": "stream",
     "text": [
      " 54%|█████▍    | 13/24 [01:35<01:19,  7.27s/it]"
     ]
    },
    {
     "name": "stdout",
     "output_type": "stream",
     "text": [
      "No improvement in 200 epochs, breaking\n",
      "Novel Acc = 23.0769 +- 9.92\n",
      "23.076923076923077\n",
      "meta-llama__Llama-2-70b-chat-hf: Acc: 0.2333\n",
      "mistralai__Mixtral-8x7B-Instruct-v0.1: Acc: 0.5000\n",
      "google__gemma-7b: Acc: 0.4667\n",
      "microsoft__phi-2: Acc: 0.4667\n",
      "mistralai__Mistral-7B-v0.1: Acc: 0.4333\n"
     ]
    },
    {
     "name": "stderr",
     "output_type": "stream",
     "text": [
      " 58%|█████▊    | 14/24 [01:39<01:05,  6.50s/it]"
     ]
    },
    {
     "name": "stdout",
     "output_type": "stream",
     "text": [
      "Novel Acc = 37.5000 +- 12.25\n",
      "37.5\n",
      "meta-llama__Llama-2-70b-chat-hf: Acc: 0.0800\n",
      "mistralai__Mixtral-8x7B-Instruct-v0.1: Acc: 0.5800\n",
      "google__gemma-7b: Acc: 0.3400\n",
      "microsoft__phi-2: Acc: 0.3400\n",
      "mistralai__Mistral-7B-v0.1: Acc: 0.2800\n"
     ]
    },
    {
     "name": "stderr",
     "output_type": "stream",
     "text": [
      " 62%|██████▎   | 15/24 [01:45<00:55,  6.19s/it]"
     ]
    },
    {
     "name": "stdout",
     "output_type": "stream",
     "text": [
      "No improvement in 200 epochs, breaking\n",
      "Novel Acc = 15.3846 +- 10.03\n",
      "15.384615384615385\n",
      "meta-llama__Llama-2-70b-chat-hf: Acc: 0.2200\n",
      "mistralai__Mixtral-8x7B-Instruct-v0.1: Acc: 0.5600\n",
      "google__gemma-7b: Acc: 0.3400\n",
      "microsoft__phi-2: Acc: 0.4000\n",
      "mistralai__Mistral-7B-v0.1: Acc: 0.5600\n"
     ]
    },
    {
     "name": "stderr",
     "output_type": "stream",
     "text": [
      " 67%|██████▋   | 16/24 [01:53<00:54,  6.81s/it]"
     ]
    },
    {
     "name": "stdout",
     "output_type": "stream",
     "text": [
      "Novel Acc = 55.7692 +- 14.26\n",
      "55.76923076923077\n",
      "meta-llama__Llama-2-70b-chat-hf: Acc: 0.1200\n",
      "mistralai__Mixtral-8x7B-Instruct-v0.1: Acc: 0.4000\n",
      "google__gemma-7b: Acc: 0.2200\n",
      "microsoft__phi-2: Acc: 0.4200\n",
      "mistralai__Mistral-7B-v0.1: Acc: 0.4400\n"
     ]
    },
    {
     "name": "stderr",
     "output_type": "stream",
     "text": [
      " 71%|███████   | 17/24 [02:01<00:50,  7.19s/it]"
     ]
    },
    {
     "name": "stdout",
     "output_type": "stream",
     "text": [
      "Novel Acc = 44.2308 +- 10.86\n",
      "44.23076923076923\n",
      "meta-llama__Llama-2-70b-chat-hf: Acc: 0.4444\n",
      "mistralai__Mixtral-8x7B-Instruct-v0.1: Acc: 0.6944\n",
      "google__gemma-7b: Acc: 0.6389\n",
      "microsoft__phi-2: Acc: 0.6389\n",
      "mistralai__Mistral-7B-v0.1: Acc: 0.5833\n"
     ]
    },
    {
     "name": "stderr",
     "output_type": "stream",
     "text": [
      " 75%|███████▌  | 18/24 [02:06<00:39,  6.54s/it]"
     ]
    },
    {
     "name": "stdout",
     "output_type": "stream",
     "text": [
      "No improvement in 200 epochs, breaking\n",
      "Novel Acc = 72.2222 +- 9.25\n",
      "72.22222222222223\n",
      "meta-llama__Llama-2-70b-chat-hf: Acc: 0.1200\n",
      "mistralai__Mixtral-8x7B-Instruct-v0.1: Acc: 0.2400\n",
      "google__gemma-7b: Acc: 0.1200\n",
      "microsoft__phi-2: Acc: 0.4000\n",
      "mistralai__Mistral-7B-v0.1: Acc: 0.2400\n"
     ]
    },
    {
     "name": "stderr",
     "output_type": "stream",
     "text": [
      " 79%|███████▉  | 19/24 [02:12<00:30,  6.20s/it]"
     ]
    },
    {
     "name": "stdout",
     "output_type": "stream",
     "text": [
      "No improvement in 200 epochs, breaking\n",
      "Novel Acc = 86.5385 +- 10.14\n",
      "86.53846153846153\n",
      "meta-llama__Llama-2-70b-chat-hf: Acc: 0.3000\n",
      "mistralai__Mixtral-8x7B-Instruct-v0.1: Acc: 0.4600\n",
      "google__gemma-7b: Acc: 0.1400\n",
      "microsoft__phi-2: Acc: 0.1800\n",
      "mistralai__Mistral-7B-v0.1: Acc: 0.1400\n"
     ]
    },
    {
     "name": "stderr",
     "output_type": "stream",
     "text": [
      " 83%|████████▎ | 20/24 [02:20<00:27,  6.75s/it]"
     ]
    },
    {
     "name": "stdout",
     "output_type": "stream",
     "text": [
      "Novel Acc = 50.0000 +- 11.92\n",
      "50.0\n",
      "meta-llama__Llama-2-70b-chat-hf: Acc: 0.1200\n",
      "mistralai__Mixtral-8x7B-Instruct-v0.1: Acc: 0.1400\n",
      "google__gemma-7b: Acc: 0.0800\n",
      "microsoft__phi-2: Acc: 0.1600\n",
      "mistralai__Mistral-7B-v0.1: Acc: 0.0400\n"
     ]
    },
    {
     "name": "stderr",
     "output_type": "stream",
     "text": [
      " 88%|████████▊ | 21/24 [02:28<00:21,  7.15s/it]"
     ]
    },
    {
     "name": "stdout",
     "output_type": "stream",
     "text": [
      "Novel Acc = 23.0769 +- 13.55\n",
      "23.076923076923077\n",
      "meta-llama__Llama-2-70b-chat-hf: Acc: 0.1200\n",
      "mistralai__Mixtral-8x7B-Instruct-v0.1: Acc: 0.1600\n",
      "google__gemma-7b: Acc: 0.0800\n",
      "microsoft__phi-2: Acc: 0.1600\n",
      "mistralai__Mistral-7B-v0.1: Acc: 0.0400\n"
     ]
    },
    {
     "name": "stderr",
     "output_type": "stream",
     "text": [
      " 92%|█████████▏| 22/24 [02:36<00:14,  7.45s/it]"
     ]
    },
    {
     "name": "stdout",
     "output_type": "stream",
     "text": [
      "Novel Acc = 5.7692 +- 5.73\n",
      "5.769230769230769\n",
      "meta-llama__Llama-2-70b-chat-hf: Acc: 0.3200\n",
      "mistralai__Mixtral-8x7B-Instruct-v0.1: Acc: 0.3200\n",
      "google__gemma-7b: Acc: 0.3800\n",
      "microsoft__phi-2: Acc: 0.2600\n",
      "mistralai__Mistral-7B-v0.1: Acc: 0.3200\n"
     ]
    },
    {
     "name": "stderr",
     "output_type": "stream",
     "text": [
      " 96%|█████████▌| 23/24 [02:44<00:07,  7.63s/it]"
     ]
    },
    {
     "name": "stdout",
     "output_type": "stream",
     "text": [
      "Novel Acc = 42.3077 +- 15.44\n",
      "42.30769230769231\n",
      "meta-llama__Llama-2-70b-chat-hf: Acc: 0.5600\n",
      "mistralai__Mixtral-8x7B-Instruct-v0.1: Acc: 0.6000\n",
      "google__gemma-7b: Acc: 0.4400\n",
      "microsoft__phi-2: Acc: 0.4200\n",
      "mistralai__Mistral-7B-v0.1: Acc: 0.5800\n"
     ]
    },
    {
     "name": "stderr",
     "output_type": "stream",
     "text": [
      "100%|██████████| 24/24 [02:52<00:00,  7.19s/it]"
     ]
    },
    {
     "name": "stdout",
     "output_type": "stream",
     "text": [
      "Novel Acc = 65.3846 +- 12.54\n",
      "65.38461538461539\n"
     ]
    },
    {
     "name": "stderr",
     "output_type": "stream",
     "text": [
      "\n"
     ]
    }
   ],
   "source": [
    "results = {}\n",
    "for ds_name in tqdm.tqdm(bbh_ds_names):\n",
    "    results[ds_name] = {}\n",
    "    all_x, all_y = [], []\n",
    "    for mn in all_model_data.keys():\n",
    "        x, y = all_model_data[mn][ds_name].values()\n",
    "        all_x.append(x)\n",
    "        all_y.append(y)\n",
    "    all_x = np.concatenate(all_x, axis=1)\n",
    "\n",
    "    try:\n",
    "        for y_idx in all_y:\n",
    "            for i in range(len(y_idx)):\n",
    "                assert(y_idx[i] == y[i])\n",
    "    except AssertionError as e:\n",
    "        print(e)\n",
    "        print(f\"skipping ... {ds_name}\")\n",
    "\n",
    "    concat_data = np.concatenate([all_x, y[:, None]], axis=1)\n",
    "\n",
    "    train_size = int(len(x) * 0.8)\n",
    "    train_data, test_data = concat_data[:train_size], concat_data[train_size:]\n",
    "\n",
    "    val_size = int(len(train_data) * 0.2)\n",
    "    train_size = len(train_data) - val_size\n",
    "\n",
    "    novel_data = test_data[:, :-1]\n",
    "    novel_label = test_data[:, -1]\n",
    "    for i, novel_arr in enumerate(np.split(novel_data, len(model_names), axis=1)):\n",
    "        pred = novel_arr.argmax(axis=1)\n",
    "        acc = np.mean(novel_label == pred)\n",
    "        print(f\"{model_names[i]}: Acc: {acc:.4f}\")\n",
    "        results[ds_name][model_names[i]] = acc * 100\n",
    "\n",
    "\n",
    "    batch_size = 4\n",
    "    train_loader = DataLoader(train_data, batch_size=batch_size, shuffle=True)\n",
    "    val_loader = DataLoader(train_data[train_size:], batch_size=batch_size, shuffle=True)\n",
    "    novel_loader = DataLoader(test_data, batch_size=batch_size, shuffle=True)\n",
    "\n",
    "    space_size = all_x[0].shape[0] // len(model_names)\n",
    "\n",
    "    exp_result = train_ensemble(model_names, train_loader, val_loader, novel_loader,\n",
    "                    n_epochs=300, save_dir=\".\",\n",
    "                    space_size=space_size, verbose=False)\n",
    "    results[ds_name][\"TOPLA\"] = exp_result[\"test_acc\"]\n",
    "    print(exp_result[\"test_acc\"])\n"
   ]
  },
  {
   "cell_type": "code",
   "execution_count": 6,
   "metadata": {},
   "outputs": [],
   "source": [
    "avg_scores = {mn: 0 for mn in model_names}\n",
    "avg_scores[\"TOPLA\"] = 0\n",
    "for ds_name, res in results.items():\n",
    "    for mn, acc in res.items():\n",
    "        avg_scores[mn] += acc\n",
    "\n",
    "for mn in model_names:\n",
    "    avg_scores[mn] = avg_scores[mn] / len(results.keys())\n",
    "avg_scores[\"TOPLA\"] /= len(results.keys())"
   ]
  },
  {
   "cell_type": "code",
   "execution_count": 7,
   "metadata": {},
   "outputs": [
    {
     "data": {
      "text/plain": [
       "{'meta-llama__Llama-2-70b-chat-hf': 28.025828460038984,\n",
       " 'mistralai__Mixtral-8x7B-Instruct-v0.1': 44.1259746588694,\n",
       " 'google__gemma-7b': 36.22928849902534,\n",
       " 'microsoft__phi-2': 44.553849902534104,\n",
       " 'mistralai__Mistral-7B-v0.1': 39.65716374269007,\n",
       " 'TOPLA': 54.050925925925924}"
      ]
     },
     "execution_count": 7,
     "metadata": {},
     "output_type": "execute_result"
    }
   ],
   "source": [
    "avg_scores"
   ]
  },
  {
   "cell_type": "code",
   "execution_count": 8,
   "metadata": {},
   "outputs": [
    {
     "data": {
      "image/png": "[encoded data removed]",
      "text/plain": [
       "<Figure size 640x480 with 1 Axes>"
      ]
     },
     "metadata": {},
     "output_type": "display_data"
    }
   ],
   "source": [
    "import matplotlib.pyplot as plt\n",
    "\n",
    "fig, ax = plt.subplots()\n",
    "\n",
    "width = 0.5  # the width of the bars\n",
    "multiplier = 0\n",
    "mstrip_names = []\n",
    "x = np.arange(len(avg_scores.keys()))\n",
    "for i, (mn, acc) in enumerate(avg_scores.items()):\n",
    "    strip_name = mn.split(\"__\")\n",
    "    strip_name = strip_name[1] if len(strip_name) == 2 else strip_name[0]\n",
    "    offset = width * multiplier\n",
    "    rects = ax.bar(x[i] + offset, acc, width, label=strip_name, color=f\"C{i}\")\n",
    "    # mstrip_names.append(strip_name)\n",
    "\n",
    "ax.set_ylabel('Performance Acc (%)')\n",
    "ax.set_title('Big-Bench Hard, Base Models and TOPLA Performance')\n",
    "ax.set_xticks(x, mstrip_names, rotation=10)\n",
    "ax.legend(loc='upper left')\n",
    "ax.set_ylim(0, 100)\n",
    "ax.yaxis.grid(zorder=0)\n",
    "plt.show()\n"
   ]
  }
 ],
 "metadata": {
  "kernelspec": {
   "display_name": "mistral",
   "language": "python",
   "name": "python3"
  },
  "language_info": {
   "codemirror_mode": {
    "name": "ipython",
    "version": 3
   },
   "file_extension": ".py",
   "mimetype": "text/x-python",
   "name": "python",
   "nbconvert_exporter": "python",
   "pygments_lexer": "ipython3",
   "version": "3.9.19"
  }
 },
 "nbformat": 4,
 "nbformat_minor": 2
}
